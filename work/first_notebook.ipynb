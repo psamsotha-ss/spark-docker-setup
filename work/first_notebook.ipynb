{
 "cells": [
  {
   "cell_type": "code",
   "execution_count": 1,
   "id": "6a932f9a-5515-4991-b532-5a0dd438434e",
   "metadata": {},
   "outputs": [
    {
     "name": "stdout",
     "output_type": "stream",
     "text": [
      "+---+-------+\n",
      "| id|  total|\n",
      "+---+-------+\n",
      "| 31|4765.05|\n",
      "| 85|5503.43|\n",
      "| 65|5140.35|\n",
      "| 53| 4945.3|\n",
      "| 78|4524.51|\n",
      "| 34| 5330.8|\n",
      "| 81|5112.71|\n",
      "| 28|5000.71|\n",
      "| 76|4904.21|\n",
      "| 27|4915.89|\n",
      "| 26| 5250.4|\n",
      "| 44|4756.89|\n",
      "| 12|4664.59|\n",
      "| 91|4642.26|\n",
      "| 22|5019.45|\n",
      "| 93|5265.75|\n",
      "| 47| 4316.3|\n",
      "|  1| 4958.6|\n",
      "| 52|5245.06|\n",
      "| 13|4367.62|\n",
      "+---+-------+\n",
      "only showing top 20 rows\n",
      "\n"
     ]
    }
   ],
   "source": [
    "from pyspark.sql import SparkSession\n",
    "from pyspark.sql.functions import round, col\n",
    "\n",
    "spark = SparkSession.builder.getOrCreate()\n",
    "\n",
    "df = spark.read.csv('orders.csv', header=True, schema='id int, order int, total float')\n",
    "df = df.groupBy('id')\\\n",
    "    .sum('total')\\\n",
    "    .withColumnRenamed('sum(total)', 'total')\n",
    "\n",
    "df.select('id', round(df['total'], 2))\\\n",
    "    .withColumnRenamed('round(total, 2)', 'total')\\\n",
    "    .show()"
   ]
  },
  {
   "cell_type": "code",
   "execution_count": null,
   "id": "07a743f3-34dc-4b7a-8210-f1278d9ae567",
   "metadata": {},
   "outputs": [],
   "source": []
  }
 ],
 "metadata": {
  "kernelspec": {
   "display_name": "Python 3",
   "language": "python",
   "name": "python3"
  },
  "language_info": {
   "codemirror_mode": {
    "name": "ipython",
    "version": 3
   },
   "file_extension": ".py",
   "mimetype": "text/x-python",
   "name": "python",
   "nbconvert_exporter": "python",
   "pygments_lexer": "ipython3",
   "version": "3.6.14"
  }
 },
 "nbformat": 4,
 "nbformat_minor": 5
}
